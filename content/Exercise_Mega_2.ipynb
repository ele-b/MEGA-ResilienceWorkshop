{
  "metadata": {
    "language_info": {
      "codemirror_mode": {
        "name": "python",
        "version": 3
      },
      "file_extension": ".py",
      "mimetype": "text/x-python",
      "name": "python",
      "nbconvert_exporter": "python",
      "pygments_lexer": "ipython3",
      "version": "3.8"
    },
    "kernelspec": {
      "name": "python",
      "display_name": "Python (Pyodide)",
      "language": "python"
    }
  },
  "nbformat_minor": 4,
  "nbformat": 4,
  "cells": [
    {
      "cell_type": "markdown",
      "source": "**We will now load epw files as you did in the previous exercise**",
      "metadata": {}
    },
    {
      "cell_type": "code",
      "source": "import numpy as np\nimport matplotlib.pyplot as plt\n#from numba import jit, vectorize, float64\nimport math\nimport pandas as pd\nimport math\nimport pandas as pd\n\nimport matplotlib.patches as mpatches\n",
      "metadata": {
        "trusted": true
      },
      "execution_count": null,
      "outputs": []
    },
    {
      "cell_type": "markdown",
      "source": "**Here we will now input the following information: year, day and month**\n\nFor IWEC put 1995, \nFor future projection 2080 put 2080,\nFor historical data 2020 put 2020. \n\nYou can also change date and month as you prefer, you can use the analyse_EPW to decide when, for instance by taking the worst day of summer.",
      "metadata": {}
    },
    {
      "cell_type": "code",
      "source": "# Set date and location, put 2020 for 2020, 1995 for IWEC and 2080 for 2080\n#change date and month as you prefer, you can use the analyse_EPW to decide when, for instance by taking the worst day of summer\n\nstart_date = pd.Timestamp(year=1995, month=7, day=15, hour=8, minute=0, tz='UTC')\n\n#location of Rotterdam\nlatitude = 51.92\nlongitude = 4.48\naltitude = 0\n\n# Set wall tilt and azimuth angles for vertical wall\nbeta = 90  # wall facing south\nazimuth = 180  # south\n\n",
      "metadata": {
        "trusted": true
      },
      "execution_count": null,
      "outputs": []
    },
    {
      "cell_type": "markdown",
      "source": "**Set albedo for the outdoor, 0.2 is average urban environment**",
      "metadata": {}
    },
    {
      "cell_type": "code",
      "source": "\n# Set ground albedo\nalbedo = 0.2  # typical value for urban surfaces\n\n",
      "metadata": {
        "trusted": true
      },
      "execution_count": null,
      "outputs": []
    },
    {
      "cell_type": "markdown",
      "source": "**Upload the weatehr file**",
      "metadata": {}
    },
    {
      "cell_type": "code",
      "source": "# Initialize a list to store the total solar radiation for each hour\ntotal_solar_radiation_list = []\n\nepw_header = ['year', 'month', 'day', 'hour', 'minute', 'u_flag', 'Dry bulb T [C]', 'Dew point T [C]',\n              'Rel Humidity [%]', 'Atm pressure [Pa]', 'GHIe [Wh/m2]', 'DNIe [Wh/m2]', 'Infrared horiz rad [Wh/m2]',\n              'GHI [Wh/m2]', 'DNI [Wh/m2]', 'DHI [Wh/m2]', 'GHE [lx]', 'DNE [lx]', 'DHE [lx]', 'Zenith lum [cd/m2]',\n              'Wind direction [deg]', 'Wind speed [m/s]', 'Total sky cover', 'Opaque sky cover', 'Visibility [km]',\n              'Ceiling height [m]', 'Present wea observation', 'Present wea codes', 'Precipitable water [mm]',\n              'Aerosol optical depth', 'Snow depth [cm]', 'Days since last snow', 'Albedo',\n              'Liquid precipitation depth [mm]',\n              'Liquid precipitation quantity [hr]']\n\ndef read_epw(fn, year=None, printcoord=False):\n    \"\"\"\n    Reads an EPW format climate file and saves it as a DataFrame. The first year found in the file is assigned to all data.\n    :param fn: file name string\n    :return: pandas DataFrame with header and datetime index, [lat [+N], lon [+E], tz [+E], altitude]\n    \"\"\"\n    with open(fn) as f:\n        line = f.readline()\n        print(line)\n\n    lat = float(line.split(',')[6])\n    lon = float(line.split(',')[7])\n    tz = float(line.split(',')[8])\n    alt = float(line.split(',')[9])\n\n    epw = pd.read_csv(fn, skiprows=8, header=None, names=epw_header, na_values=[999999999])\n    epw['hour'] = epw['hour'] - 1\n    if year is not None:\n        epw['year'] = year\n    else:\n        epw['year'] = epw['year'][0]\n    epw.index = pd.to_datetime(epw[['year', 'month', 'day', 'hour']])\n    epw = epw.iloc[:, 5:]\n\n    if printcoord:\n        return epw, lat, lon, tz, alt\n    else:\n        return epw\n\n# Upload the weather file, we are skipping the first 8 rows that contain metadata\n#epw = read_epw('EPW-MEGA/IWEC/NLD_Amsterdam.062400_IWEC.epw')\nepw=read_epw('EPW-MEGA/CCWeaGenerator/NLD_AMSTERDAM_HadCM3-A2-2080.epw')\n#epw=read_epw('EPW-MEGA/Historical/Rotterdam-ISD063440-2020.epw')\n\n#initialise variables\ntotal_gh= []\ntdb_list=[]\nrh_list=[]\nwind_list=[]",
      "metadata": {
        "trusted": true
      },
      "execution_count": null,
      "outputs": []
    },
    {
      "cell_type": "markdown",
      "source": "**Now we will calculate the list of weather variables for the UTCI calculation**",
      "metadata": {}
    },
    {
      "cell_type": "code",
      "source": "\n# Loop through each hour from 8am to 8pm on July 15th\n\nfor hour in range(7, 20):\n    # Set the date and time for this hour\n    date = pd.Timestamp(year=2080, month=7, day=13, hour=hour)\n\n    # Extract GHI, DNI, and DHI from the epw dataframe for the specific date and time\n    ghi = epw.loc[date, 'GHI [Wh/m2]']\n    dni = epw.loc[date, 'DNI [Wh/m2]']\n    dhi = epw.loc[date, 'DHI [Wh/m2]']\n\n    # Calculate the incident solar radiation on the wall\n    I = dni * math.cos(math.radians(beta)) * math.cos(math.radians(azimuth)) + dhi * math.sin(math.radians(beta))\n\n    # Calculate the reflected solar radiation\n    if hour <= 17:\n        R = 0.2  # ground reflectance\n        dni_reflected = dni * R * (1 - math.cos(math.radians(beta))) / 2\n        dhi_reflected = dhi * R * math.sin(math.radians(beta))\n        Ir = dni_reflected + dhi_reflected\n    else:\n        Ir = 0\n\n    # Calculate the total solar radiation on the wall for this hour\n    I_total = I + Ir\n\n    # Add the total solar radiation to the list\n    total_solar_radiation_list.append(I_total)\n    # Extract dry bulb temperature and relative humidity from the epw dataframe for the specific date and time\n    tdb = epw.loc[date, 'Dry bulb T [C]']\n    rh = epw.loc[date, 'Rel Humidity [%]']\n    wind=epw.loc[date, 'Wind speed [m/s]']\n\n    # Do something with the dry bulb temperature and relative humidity for this hour\n    # For example, add them to lists\n    tdb_list.append(tdb)\n    rh_list.append(rh)\n    wind_list.append(wind)\n",
      "metadata": {
        "trusted": true
      },
      "execution_count": null,
      "outputs": []
    },
    {
      "cell_type": "markdown",
      "source": "**Now we will upload the equations and function that calculate the UTCI.**\n\nFor the calculation of the UTCI we will refer to the pythermalcomfort library\nPlease cite us if you use this package: Tartarini, F., Schiavon, S., 2020. pythermalcomfort: A Python package for thermal comfort research. \nSoftwareX 12, 100578. https://doi.org/10.1016/j.softx.2020.100578\n\nIn your design in MEGA, you can use the PMV or other thermal comfort models for indoor",
      "metadata": {}
    },
    {
      "cell_type": "code",
      "source": "\ndef units_converter(from_units=\"ip\", **kwargs):\n    \"\"\"Converts IP values to SI units.\n\n    Parameters\n    ----------\n    from_units: str\n        specify system to convert from\n    **kwargs : [t, v]\n\n    Returns\n    -------\n    converted values in SI units\n    \"\"\"\n    results = list()\n    if from_units == \"ip\":\n        for key, value in kwargs.items():\n            if \"tmp\" in key or key == \"tr\" or key == \"tdb\":\n                results.append((value - 32) * 5 / 9)\n            if key in [\"v\", \"vr\", \"vel\"]:\n                results.append(value / 3.281)\n            if key == \"area\":\n                results.append(value / 10.764)\n            if key == \"pressure\":\n                results.append(value * 101325)\n\n    elif from_units == \"si\":\n        for key, value in kwargs.items():\n            if \"tmp\" in key or key == \"tr\" or key == \"tdb\":\n                results.append((value * 9 / 5) + 32)\n            if key in [\"v\", \"vr\", \"vel\"]:\n                results.append(value * 3.281)\n            if key == \"area\":\n                results.append(value * 10.764)\n            if key == \"pressure\":\n                results.append(value / 101325)\n\n    return results\n\ndef valid_range(x, valid):\n    \"\"\"Filter values based on a valid range.\"\"\"\n    return np.where((x >= valid[0]) & (x <= valid[1]), x, np.nan)\ndef utci_optimized(tdb, v, tr):\n    def exponential(t_db):\n        g = [\n            -2836.5744,\n            -6028.076559,\n            19.54263612,\n            -0.02737830188,\n            0.000016261698,\n            (7.0229056 * np.power(10.0, -10)),\n            (-1.8680009 * np.power(10.0, -13)),\n        ]\n        tk = t_db + 273.15  # air temp in K\n        es = 2.7150305 * np.log1p(tk)\n        for count, i in enumerate(g):\n            es = es + (i * np.power(tk, count - 2))\n        es = np.exp(es) * 0.01  # convert Pa to hPa\n        return es\n\n    eh_pa = exponential(tdb) * (rh / 100.0)\n    delta_t_tr = tr - tdb\n    pa = eh_pa / 10.0  # convert vapour pressure to kPa\n    delta_t_tr = tr - tdb\n    return (\n        tdb\n        + 0.607562052\n        + (-0.0227712343) * tdb\n        + (8.06470249 * (10 ** (-4))) * tdb * tdb\n        + (-1.54271372 * (10 ** (-4))) * tdb * tdb * tdb\n        + (-3.24651735 * (10 ** (-6))) * tdb * tdb * tdb * tdb\n        + (7.32602852 * (10 ** (-8))) * tdb * tdb * tdb * tdb * tdb\n        + (1.35959073 * (10 ** (-9))) * tdb * tdb * tdb * tdb * tdb * tdb\n        + (-2.25836520) * v\n        + 0.0880326035 * tdb * v\n        + 0.00216844454 * tdb * tdb * v\n        + (-1.53347087 * (10 ** (-5))) * tdb * tdb * tdb * v\n        + (-5.72983704 * (10 ** (-7))) * tdb * tdb * tdb * tdb * v\n        + (-2.55090145 * (10 ** (-9))) * tdb * tdb * tdb * tdb * tdb * v\n        + (-0.751269505) * v * v\n        + (-0.00408350271) * tdb * v * v\n        + (-5.21670675 * (10 ** (-5))) * tdb * tdb * v * v\n        + (1.94544667 * (10 ** (-6))) * tdb * tdb * tdb * v * v\n        + (1.14099531 * (10 ** (-8))) * tdb * tdb * tdb * tdb * v * v\n        + 0.158137256 * v * v * v\n        + (-6.57263143 * (10 ** (-5))) * tdb * v * v * v\n        + (2.22697524 * (10 ** (-7))) * tdb * tdb * v * v * v\n        + (-4.16117031 * (10 ** (-8))) * tdb * tdb * tdb * v * v * v\n        + (-0.0127762753) * v * v * v * v\n        + (9.66891875 * (10 ** (-6))) * tdb * v * v * v * v\n        + (2.52785852 * (10 ** (-9))) * tdb * tdb * v * v * v * v\n        + (4.56306672 * (10 ** (-4))) * v * v * v * v * v\n        + (-1.74202546 * (10 ** (-7))) * tdb * v * v * v * v * v\n        + (-5.91491269 * (10 ** (-6))) * v * v * v * v * v * v\n        + 0.398374029 * delta_t_tr\n        + (1.83945314 * (10 ** (-4))) * tdb * delta_t_tr\n        + (-1.73754510 * (10 ** (-4))) * tdb * tdb * delta_t_tr\n        + (-7.60781159 * (10 ** (-7))) * tdb * tdb * tdb * delta_t_tr\n        + (3.77830287 * (10 ** (-8))) * tdb * tdb * tdb * tdb * delta_t_tr\n        + (5.43079673 * (10 ** (-10))) * tdb * tdb * tdb * tdb * tdb * delta_t_tr\n        + (-0.0200518269) * v * delta_t_tr\n        + (8.92859837 * (10 ** (-4))) * tdb * v * delta_t_tr\n        + (3.45433048 * (10 ** (-6))) * tdb * tdb * v * delta_t_tr\n        + (-3.77925774 * (10 ** (-7))) * tdb * tdb * tdb * v * delta_t_tr\n        + (-1.69699377 * (10 ** (-9))) * tdb * tdb * tdb * tdb * v * delta_t_tr\n        + (1.69992415 * (10 ** (-4))) * v * v * delta_t_tr\n        + (-4.99204314 * (10 ** (-5))) * tdb * v * v * delta_t_tr\n        + (2.47417178 * (10 ** (-7))) * tdb * tdb * v * v * delta_t_tr\n        + (1.07596466 * (10 ** (-8))) * tdb * tdb * tdb * v * v * delta_t_tr\n        + (8.49242932 * (10 ** (-5))) * v * v * v * delta_t_tr\n        + (1.35191328 * (10 ** (-6))) * tdb * v * v * v * delta_t_tr\n        + (-6.21531254 * (10 ** (-9))) * tdb * tdb * v * v * v * delta_t_tr\n        + (-4.99410301 * (10 ** (-6))) * v * v * v * v * delta_t_tr\n        + (-1.89489258 * (10 ** (-8))) * tdb * v * v * v * v * delta_t_tr\n        + (8.15300114 * (10 ** (-8))) * v * v * v * v * v * delta_t_tr\n        + (7.55043090 * (10 ** (-4))) * delta_t_tr * delta_t_tr\n        + (-5.65095215 * (10 ** (-5))) * tdb * delta_t_tr * delta_t_tr\n        + (-4.52166564 * (10 ** (-7))) * tdb * tdb * delta_t_tr * delta_t_tr\n        + (2.46688878 * (10 ** (-8))) * tdb * tdb * tdb * delta_t_tr * delta_t_tr\n        + (2.42674348 * (10 ** (-10))) * tdb * tdb * tdb * tdb * delta_t_tr * delta_t_tr\n        + (1.54547250 * (10 ** (-4))) * v * delta_t_tr * delta_t_tr\n        + (5.24110970 * (10 ** (-6))) * tdb * v * delta_t_tr * delta_t_tr\n        + (-8.75874982 * (10 ** (-8))) * tdb * tdb * v * delta_t_tr * delta_t_tr\n        + (-1.50743064 * (10 ** (-9))) * tdb * tdb * tdb * v * delta_t_tr * delta_t_tr\n        + (-1.56236307 * (10 ** (-5))) * v * v * delta_t_tr * delta_t_tr\n        + (-1.33895614 * (10 ** (-7))) * tdb * v * v * delta_t_tr * delta_t_tr\n        + (2.49709824 * (10 ** (-9))) * tdb * tdb * v * v * delta_t_tr * delta_t_tr\n        + (6.51711721 * (10 ** (-7))) * v * v * v * delta_t_tr * delta_t_tr\n        + (1.94960053 * (10 ** (-9))) * tdb * v * v * v * delta_t_tr * delta_t_tr\n        + (-1.00361113 * (10 ** (-8))) * v * v * v * v * delta_t_tr * delta_t_tr\n        + (-1.21206673 * (10 ** (-5))) * delta_t_tr * delta_t_tr * delta_t_tr\n        + (-2.18203660 * (10 ** (-7))) * tdb * delta_t_tr * delta_t_tr * delta_t_tr\n        + (7.51269482 * (10 ** (-9))) * tdb * tdb * delta_t_tr * delta_t_tr * delta_t_tr\n        + (9.79063848 * (10 ** (-11)))\n        * tdb\n        * tdb\n        * tdb\n        * delta_t_tr\n        * delta_t_tr\n        * delta_t_tr\n        + (1.25006734 * (10 ** (-6))) * v * delta_t_tr * delta_t_tr * delta_t_tr\n        + (-1.81584736 * (10 ** (-9))) * tdb * v * delta_t_tr * delta_t_tr * delta_t_tr\n        + (-3.52197671 * (10 ** (-10)))\n        * tdb\n        * tdb\n        * v\n        * delta_t_tr\n        * delta_t_tr\n        * delta_t_tr\n        + (-3.36514630 * (10 ** (-8))) * v * v * delta_t_tr * delta_t_tr * delta_t_tr\n        + (1.35908359 * (10 ** (-10)))\n        * tdb\n        * v\n        * v\n        * delta_t_tr\n        * delta_t_tr\n        * delta_t_tr\n        + (4.17032620 * (10 ** (-10)))\n        * v\n        * v\n        * v\n        * delta_t_tr\n        * delta_t_tr\n        * delta_t_tr\n        + (-1.30369025 * (10 ** (-9)))\n        * delta_t_tr\n        * delta_t_tr\n        * delta_t_tr\n        * delta_t_tr\n        + (4.13908461 * (10 ** (-10)))\n        * tdb\n        * delta_t_tr\n        * delta_t_tr\n        * delta_t_tr\n        * delta_t_tr\n        + (9.22652254 * (10 ** (-12)))\n        * tdb\n        * tdb\n        * delta_t_tr\n        * delta_t_tr\n        * delta_t_tr\n        * delta_t_tr\n        + (-5.08220384 * (10 ** (-9)))\n        * v\n        * delta_t_tr\n        * delta_t_tr\n        * delta_t_tr\n        * delta_t_tr\n        + (-2.24730961 * (10 ** (-11)))\n        * tdb\n        * v\n        * delta_t_tr\n        * delta_t_tr\n        * delta_t_tr\n        * delta_t_tr\n        + (1.17139133 * (10 ** (-10)))\n        * v\n        * v\n        * delta_t_tr\n        * delta_t_tr\n        * delta_t_tr\n        * delta_t_tr\n        + (6.62154879 * (10 ** (-10)))\n        * delta_t_tr\n        * delta_t_tr\n        * delta_t_tr\n        * delta_t_tr\n        * delta_t_tr\n        + (4.03863260 * (10 ** (-13)))\n        * tdb\n        * delta_t_tr\n        * delta_t_tr\n        * delta_t_tr\n        * delta_t_tr\n        * delta_t_tr\n        + (1.95087203 * (10 ** (-12)))\n        * v\n        * delta_t_tr\n        * delta_t_tr\n        * delta_t_tr\n        * delta_t_tr\n        * delta_t_tr\n        + (-4.73602469 * (10 ** (-12)))\n        * delta_t_tr\n        * delta_t_tr\n        * delta_t_tr\n        * delta_t_tr\n        * delta_t_tr\n        * delta_t_tr\n        + 5.12733497 * pa\n        + (-0.312788561) * tdb * pa\n        + (-0.0196701861) * tdb * tdb * pa\n        + (9.99690870 * (10 ** (-4))) * tdb * tdb * tdb * pa\n        + (9.51738512 * (10 ** (-6))) * tdb * tdb * tdb * tdb * pa\n        + (-4.66426341 * (10 ** (-7))) * tdb * tdb * tdb * tdb * tdb * pa\n        + 0.548050612 * v * pa\n        + (-0.00330552823) * tdb * v * pa\n        + (-0.00164119440) * tdb * tdb * v * pa\n        + (-5.16670694 * (10 ** (-6))) * tdb * tdb * tdb * v * pa\n        + (9.52692432 * (10 ** (-7))) * tdb * tdb * tdb * tdb * v * pa\n        + (-0.0429223622) * v * v * pa\n        + 0.00500845667 * tdb * v * v * pa\n        + (1.00601257 * (10 ** (-6))) * tdb * tdb * v * v * pa\n        + (-1.81748644 * (10 ** (-6))) * tdb * tdb * tdb * v * v * pa\n        + (-1.25813502 * (10 ** (-3))) * v * v * v * pa\n        + (-1.79330391 * (10 ** (-4))) * tdb * v * v * v * pa\n        + (2.34994441 * (10 ** (-6))) * tdb * tdb * v * v * v * pa\n        + (1.29735808 * (10 ** (-4))) * v * v * v * v * pa\n        + (1.29064870 * (10 ** (-6))) * tdb * v * v * v * v * pa\n        + (-2.28558686 * (10 ** (-6))) * v * v * v * v * v * pa\n        + (-0.0369476348) * delta_t_tr * pa\n        + 0.00162325322 * tdb * delta_t_tr * pa\n        + (-3.14279680 * (10 ** (-5))) * tdb * tdb * delta_t_tr * pa\n        + (2.59835559 * (10 ** (-6))) * tdb * tdb * tdb * delta_t_tr * pa\n        + (-4.77136523 * (10 ** (-8))) * tdb * tdb * tdb * tdb * delta_t_tr * pa\n        + (8.64203390 * (10 ** (-3))) * v * delta_t_tr * pa\n        + (-6.87405181 * (10 ** (-4))) * tdb * v * delta_t_tr * pa\n        + (-9.13863872 * (10 ** (-6))) * tdb * tdb * v * delta_t_tr * pa\n        + (5.15916806 * (10 ** (-7))) * tdb * tdb * tdb * v * delta_t_tr * pa\n        + (-3.59217476 * (10 ** (-5))) * v * v * delta_t_tr * pa\n        + (3.28696511 * (10 ** (-5))) * tdb * v * v * delta_t_tr * pa\n        + (-7.10542454 * (10 ** (-7))) * tdb * tdb * v * v * delta_t_tr * pa\n        + (-1.24382300 * (10 ** (-5))) * v * v * v * delta_t_tr * pa\n        + (-7.38584400 * (10 ** (-9))) * tdb * v * v * v * delta_t_tr * pa\n        + (2.20609296 * (10 ** (-7))) * v * v * v * v * delta_t_tr * pa\n        + (-7.32469180 * (10 ** (-4))) * delta_t_tr * delta_t_tr * pa\n        + (-1.87381964 * (10 ** (-5))) * tdb * delta_t_tr * delta_t_tr * pa\n        + (4.80925239 * (10 ** (-6))) * tdb * tdb * delta_t_tr * delta_t_tr * pa\n        + (-8.75492040 * (10 ** (-8))) * tdb * tdb * tdb * delta_t_tr * delta_t_tr * pa\n        + (2.77862930 * (10 ** (-5))) * v * delta_t_tr * delta_t_tr * pa\n        + (-5.06004592 * (10 ** (-6))) * tdb * v * delta_t_tr * delta_t_tr * pa\n        + (1.14325367 * (10 ** (-7))) * tdb * tdb * v * delta_t_tr * delta_t_tr * pa\n        + (2.53016723 * (10 ** (-6))) * v * v * delta_t_tr * delta_t_tr * pa\n        + (-1.72857035 * (10 ** (-8))) * tdb * v * v * delta_t_tr * delta_t_tr * pa\n        + (-3.95079398 * (10 ** (-8))) * v * v * v * delta_t_tr * delta_t_tr * pa\n        + (-3.59413173 * (10 ** (-7))) * delta_t_tr * delta_t_tr * delta_t_tr * pa\n        + (7.04388046 * (10 ** (-7))) * tdb * delta_t_tr * delta_t_tr * delta_t_tr * pa\n        + (-1.89309167 * (10 ** (-8)))\n        * tdb\n        * tdb\n        * delta_t_tr\n        * delta_t_tr\n        * delta_t_tr\n        * pa\n        + (-4.79768731 * (10 ** (-7))) * v * delta_t_tr * delta_t_tr * delta_t_tr * pa\n        + (7.96079978 * (10 ** (-9)))\n        * tdb\n        * v\n        * delta_t_tr\n        * delta_t_tr\n        * delta_t_tr\n        * pa\n        + (1.62897058 * (10 ** (-9)))\n        * v\n        * v\n        * delta_t_tr\n        * delta_t_tr\n        * delta_t_tr\n        * pa\n        + (3.94367674 * (10 ** (-8)))\n        * delta_t_tr\n        * delta_t_tr\n        * delta_t_tr\n        * delta_t_tr\n        * pa\n        + (-1.18566247 * (10 ** (-9)))\n        * tdb\n        * delta_t_tr\n        * delta_t_tr\n        * delta_t_tr\n        * delta_t_tr\n        * pa\n        + (3.34678041 * (10 ** (-10)))\n        * v\n        * delta_t_tr\n        * delta_t_tr\n        * delta_t_tr\n        * delta_t_tr\n        * pa\n        + (-1.15606447 * (10 ** (-10)))\n        * delta_t_tr\n        * delta_t_tr\n        * delta_t_tr\n        * delta_t_tr\n        * delta_t_tr\n        * pa\n        + (-2.80626406) * pa * pa\n        + 0.548712484 * tdb * pa * pa\n        + (-0.00399428410) * tdb * tdb * pa * pa\n        + (-9.54009191 * (10 ** (-4))) * tdb * tdb * tdb * pa * pa\n        + (1.93090978 * (10 ** (-5))) * tdb * tdb * tdb * tdb * pa * pa\n        + (-0.308806365) * v * pa * pa\n        + 0.0116952364 * tdb * v * pa * pa\n        + (4.95271903 * (10 ** (-4))) * tdb * tdb * v * pa * pa\n        + (-1.90710882 * (10 ** (-5))) * tdb * tdb * tdb * v * pa * pa\n        + 0.00210787756 * v * v * pa * pa\n        + (-6.98445738 * (10 ** (-4))) * tdb * v * v * pa * pa\n        + (2.30109073 * (10 ** (-5))) * tdb * tdb * v * v * pa * pa\n        + (4.17856590 * (10 ** (-4))) * v * v * v * pa * pa\n        + (-1.27043871 * (10 ** (-5))) * tdb * v * v * v * pa * pa\n        + (-3.04620472 * (10 ** (-6))) * v * v * v * v * pa * pa\n        + 0.0514507424 * delta_t_tr * pa * pa\n        + (-0.00432510997) * tdb * delta_t_tr * pa * pa\n        + (8.99281156 * (10 ** (-5))) * tdb * tdb * delta_t_tr * pa * pa\n        + (-7.14663943 * (10 ** (-7))) * tdb * tdb * tdb * delta_t_tr * pa * pa\n        + (-2.66016305 * (10 ** (-4))) * v * delta_t_tr * pa * pa\n        + (2.63789586 * (10 ** (-4))) * tdb * v * delta_t_tr * pa * pa\n        + (-7.01199003 * (10 ** (-6))) * tdb * tdb * v * delta_t_tr * pa * pa\n        + (-1.06823306 * (10 ** (-4))) * v * v * delta_t_tr * pa * pa\n        + (3.61341136 * (10 ** (-6))) * tdb * v * v * delta_t_tr * pa * pa\n        + (2.29748967 * (10 ** (-7))) * v * v * v * delta_t_tr * pa * pa\n        + (3.04788893 * (10 ** (-4))) * delta_t_tr * delta_t_tr * pa * pa\n        + (-6.42070836 * (10 ** (-5))) * tdb * delta_t_tr * delta_t_tr * pa * pa\n        + (1.16257971 * (10 ** (-6))) * tdb * tdb * delta_t_tr * delta_t_tr * pa * pa\n        + (7.68023384 * (10 ** (-6))) * v * delta_t_tr * delta_t_tr * pa * pa\n        + (-5.47446896 * (10 ** (-7))) * tdb * v * delta_t_tr * delta_t_tr * pa * pa\n        + (-3.59937910 * (10 ** (-8))) * v * v * delta_t_tr * delta_t_tr * pa * pa\n        + (-4.36497725 * (10 ** (-6))) * delta_t_tr * delta_t_tr * delta_t_tr * pa * pa\n        + (1.68737969 * (10 ** (-7)))\n        * tdb\n        * delta_t_tr\n        * delta_t_tr\n        * delta_t_tr\n        * pa\n        * pa\n        + (2.67489271 * (10 ** (-8)))\n        * v\n        * delta_t_tr\n        * delta_t_tr\n        * delta_t_tr\n        * pa\n        * pa\n        + (3.23926897 * (10 ** (-9)))\n        * delta_t_tr\n        * delta_t_tr\n        * delta_t_tr\n        * delta_t_tr\n        * pa\n        * pa\n        + (-0.0353874123) * pa * pa * pa\n        + (-0.221201190) * tdb * pa * pa * pa\n        + 0.0155126038 * tdb * tdb * pa * pa * pa\n        + (-2.63917279 * (10 ** (-4))) * tdb * tdb * tdb * pa * pa * pa\n        + 0.0453433455 * v * pa * pa * pa\n        + (-0.00432943862) * tdb * v * pa * pa * pa\n        + (1.45389826 * (10 ** (-4))) * tdb * tdb * v * pa * pa * pa\n        + (2.17508610 * (10 ** (-4))) * v * v * pa * pa * pa\n        + (-6.66724702 * (10 ** (-5))) * tdb * v * v * pa * pa * pa\n        + (3.33217140 * (10 ** (-5))) * v * v * v * pa * pa * pa\n        + (-0.00226921615) * delta_t_tr * pa * pa * pa\n        + (3.80261982 * (10 ** (-4))) * tdb * delta_t_tr * pa * pa * pa\n        + (-5.45314314 * (10 ** (-9))) * tdb * tdb * delta_t_tr * pa * pa * pa\n        + (-7.96355448 * (10 ** (-4))) * v * delta_t_tr * pa * pa * pa\n        + (2.53458034 * (10 ** (-5))) * tdb * v * delta_t_tr * pa * pa * pa\n        + (-6.31223658 * (10 ** (-6))) * v * v * delta_t_tr * pa * pa * pa\n        + (3.02122035 * (10 ** (-4))) * delta_t_tr * delta_t_tr * pa * pa * pa\n        + (-4.77403547 * (10 ** (-6))) * tdb * delta_t_tr * delta_t_tr * pa * pa * pa\n        + (1.73825715 * (10 ** (-6))) * v * delta_t_tr * delta_t_tr * pa * pa * pa\n        + (-4.09087898 * (10 ** (-7)))\n        * delta_t_tr\n        * delta_t_tr\n        * delta_t_tr\n        * pa\n        * pa\n        * pa\n        + 0.614155345 * pa * pa * pa * pa\n        + (-0.0616755931) * tdb * pa * pa * pa * pa\n        + 0.00133374846 * tdb * tdb * pa * pa * pa * pa\n        + 0.00355375387 * v * pa * pa * pa * pa\n        + (-5.13027851 * (10 ** (-4))) * tdb * v * pa * pa * pa * pa\n        + (1.02449757 * (10 ** (-4))) * v * v * pa * pa * pa * pa\n        + (-0.00148526421) * delta_t_tr * pa * pa * pa * pa\n        + (-4.11469183 * (10 ** (-5))) * tdb * delta_t_tr * pa * pa * pa * pa\n        + (-6.80434415 * (10 ** (-6))) * v * delta_t_tr * pa * pa * pa * pa\n        + (-9.77675906 * (10 ** (-6))) * delta_t_tr * delta_t_tr * pa * pa * pa * pa\n        + 0.0882773108 * pa * pa * pa * pa * pa\n        + (-0.00301859306) * tdb * pa * pa * pa * pa * pa\n        + 0.00104452989 * v * pa * pa * pa * pa * pa\n        + (2.47090539 * (10 ** (-4))) * delta_t_tr * pa * pa * pa * pa * pa\n        + 0.00148348065 * pa * pa * pa * pa * pa * pa\n    )\ndef utci(tdb, tr, v, rh, units=\"SI\", return_stress_category=False, limit_inputs=True):\n    tdb = np.array(tdb)\n    tr = np.array(tr)\n    v = np.array(v)\n    rh = np.array(rh)\n\n    if units.lower() == \"ip\":\n        tdb, tr, v = units_converter(tdb=tdb, tr=tr, v=v)\n\n    def exponential(t_db):\n        g = [\n            -2836.5744,\n            -6028.076559,\n            19.54263612,\n            -0.02737830188,\n            0.000016261698,\n            (7.0229056 * np.power(10.0, -10)),\n            (-1.8680009 * np.power(10.0, -13)),\n        ]\n        tk = t_db + 273.15  # air temp in K\n        es = 2.7150305 * np.log1p(tk)\n        for count, i in enumerate(g):\n            es = es + (i * np.power(tk, count - 2))\n        es = np.exp(es) * 0.01  # convert Pa to hPa\n        return es\n\n    eh_pa = exponential(tdb) * (rh / 100.0)\n    delta_t_tr = tr - tdb\n    pa = eh_pa / 10.0  # convert vapour pressure to kPa\n\n    utci_approx = utci_optimized(tdb, v, tr)\n\n    # Checks that inputs are within the bounds accepted by the model if not return nan\n    if limit_inputs:\n        tdb_valid = valid_range(tdb, (-50.0, 50.0))\n        diff_valid = valid_range(tr - tdb, (-30.0, 70.0))\n        v_valid = valid_range(v, (0.5, 17.0))\n        all_valid = ~(np.isnan(tdb_valid) | np.isnan(diff_valid) | np.isnan(v_valid))\n        utci_approx = np.where(all_valid, utci_approx, np.nan)\n\n    if units.lower() == \"ip\":\n        utci_approx = units_converter(tmp=utci_approx, from_units=\"si\")[0]\n\n    if return_stress_category:\n        stress_categories = {\n            -40.0: \"extreme cold stress\",\n            -27.0: \"very strong cold stress\",\n            -13.0: \"strong cold stress\",\n            0.0: \"moderate cold stress\",\n            9.0: \"slight cold stress\",\n            26.0: \"no thermal stress\",\n            32.0: \"moderate heat stress\",\n            38.0: \"strong heat stress\",\n            46.0: \"very strong heat stress\",\n            1000.0: \"extreme heat stress\",\n        }\n\n        return {\n            \"utci\": np.round_(utci_approx, 1),\n            \"stress_category\": mapping(utci_approx, stress_categories),\n        }\n    else:\n        return np.round_(utci_approx, 1)\n\n",
      "metadata": {
        "trusted": true
      },
      "execution_count": null,
      "outputs": []
    },
    {
      "cell_type": "markdown",
      "source": "**Now set the absorptivity for solar and long wave**",
      "metadata": {}
    },
    {
      "cell_type": "code",
      "source": "# Example values for a person standing 2m from an infinite wall\n\nalpha = 1 # assume a gray wall - this is the wall solar absorptivity\n\nalpha_long=0.8#long wave absorptivity\n\nh= 25.0 #boundary layer heat transfer coefficient, this could also change by design\n\n",
      "metadata": {
        "trusted": true
      },
      "execution_count": null,
      "outputs": []
    },
    {
      "cell_type": "markdown",
      "source": "**Now we will calculate the UTCI for your design parameters, you will no use this part of the code for assessing your design. Instead, use your thermal model (design builder, honeybee etc) to calculate the UTCI or other comfort metric of preference**\n\n**you can use the ratio Normalised_Delta =Delta_UTCI/Comfort_UTCI to compute performance loss**",
      "metadata": {}
    },
    {
      "cell_type": "code",
      "source": "\ndef radiant_temperature(T_se, tdb, T_sky):\n    sigma = 5.67e-8  # Stefan-Boltzmann constant\n    num = ((T_se+ 273.15)**4) *1\n    Tr = np.sqrt(np.power(num, 4))-273.15\n    return Tr\n\n# Example solar radiation values per hour for a day in July\n#solar_radiation_per_hour = [450, 500, 600, 700, 750, 800, 850, 900, 800, 700, 600, 500, 450]\n#tdb_per_hour = [25, 24, 25, 26, 26, 28, 29, 27, 26, 25, 26, 25, 25]\n\nsky = 50.0 #long wave radiation to clear sky in summer\n\n\n# Calculate the radiant temperature and UTCI for each hour and the DT from comfort threshold\nTr_values = []\nUTCI_values = []\nT_se_values = []\nT_sol_air_values = []\nDelta_values = []\nDelta_num= []\nNormalised_performance=[]\n\n\n\nfor solar_radiation, tdb, rh, wind in zip(total_solar_radiation_list, tdb_list, rh_list, wind_list):\n    T_sol_air = tdb + ((alpha * solar_radiation - alpha_long * sky) / h)\n    #this is a strong assumption to simplify this exercise, which doesn't take into account material heat capacity and mass \n    Tr = T_sol_air\n    T_se=Tr\n    UTCI = utci(tdb=tdb, tr=Tr, v=wind, rh=rh)\n    print(UTCI)\n    print(T_se)\n    Comfort_UTCI=26.0 #maximum value\n    if UTCI > Comfort_UTCI:\n        Delta_UTCI= Comfort_UTCI - (UTCI-Comfort_UTCI)\n        Normalised_Delta=Delta_UTCI/Comfort_UTCI\n        #print(Normalised_Delta)\n    elif UTCI <  9.0:\n        Delta = 9.0-UTCI\n        Delta_num.append(Delta)\n        Delta_UTCI=Comfort_UTCI-Delta\n        Normalised_Delta =Delta_UTCI/Comfort_UTCI\n    else:\n        Normalised_Delta = 1\n        Delta_UTCI=0\n\n    T_sol_air_values.append(T_sol_air)\n    T_se_values.append(T_se)\n    Tr_values.append(Tr)\n    UTCI_values.append(UTCI)\n    Delta_values.append(Delta_UTCI)\n    Normalised_performance.append(Normalised_Delta)\n\n",
      "metadata": {
        "trusted": true
      },
      "execution_count": null,
      "outputs": []
    },
    {
      "cell_type": "markdown",
      "source": "**We can now calculate the Resilience as the area under the performance curve**",
      "metadata": {}
    },
    {
      "cell_type": "code",
      "source": "resilience_area = np.trapz(Normalised_performance,dx=1)\n\n# Alternatively, you can use the Simpson's rule for numerical integration\n# area = simps(Delta_values, dx=1)\n\n# Print the calculated area\nprint(\"Surface area under the curve: \", resilience_area)\n\n",
      "metadata": {
        "trusted": true
      },
      "execution_count": null,
      "outputs": []
    },
    {
      "cell_type": "markdown",
      "source": "**Let's now plot our results**",
      "metadata": {}
    },
    {
      "cell_type": "code",
      "source": "\n# Generate the x-axis values as a range from 0 to the length of the Delta_values list\nx_values = [\"07:00\", \"09:00\", \"10:00\", \"11:00\", \"12:00\", \"13:00\", \"14:00\", \"15:00\", \"16:00\", \"17:00\", \"18:00\", \"19:00\", \"20:00\" ]\n\n# Create a list of ones and zeros with the same length as Normalised_performance\ny1 = np.ones(len(Normalised_performance))\ny2 = np.zeros(len(Normalised_performance))\n\n# Plot the Delta_values data as a line chart\nplt.plot(x_values,Normalised_performance, color='black')\n# add horizontal line at y=26\nplt.axhline(y=1, color='grey', linestyle='--')\nplt.axhline(y=0, color='grey', linestyle='--')\n# Set the x-axis label and title\nplt.xlabel('Time (hours)')\n\nplt.ylim(-0.1, 1.1)  # set the limits of y-axis to be slightly larger than 0 and 1\nplt.yticks([0, 1])   # set the y-ticks to be only 0 and 1\n# Color the area between the lines\n# Set the x-axis label and title\nplt.xlabel('Time (hours)')\nplt.ylabel('Performance')\n\nresilience_loss= plt.fill_between(x_values, y1, Normalised_performance, where=Normalised_performance < y1, interpolate=True, alpha=0.5, edgecolor='red', facecolor='none', hatch='////')\nresilience= plt.fill_between(x_values, y2, Normalised_performance, where=Normalised_performance >= y2, interpolate=True, alpha=0.5, color='grey',  hatch='////')\n# Create proxy artists for the legend\nred_hatch = mpatches.Patch(facecolor='white', edgecolor='red', hatch='////', label='Resilience Loss')\ngrey_hatch = mpatches.Patch(facecolor='grey', hatch='////', label='Resilience')\n\n# Add the legend\nplt.legend(handles=[red_hatch, grey_hatch])\n\n\n# Show the chart\nplt.show()",
      "metadata": {
        "trusted": true
      },
      "execution_count": null,
      "outputs": []
    },
    {
      "cell_type": "code",
      "source": "",
      "metadata": {},
      "execution_count": null,
      "outputs": []
    }
  ]
}